{
 "cells": [
  {
   "cell_type": "code",
   "execution_count": 1,
   "metadata": {},
   "outputs": [
    {
     "name": "stderr",
     "output_type": "stream",
     "text": [
      "Using TensorFlow backend.\n"
     ]
    }
   ],
   "source": [
    "#imports \n",
    "from tensorflow import keras\n",
    "import pandas as pd\n",
    "import numpy as np\n",
    "from keras.models import Model\n",
    "from keras.layers import LSTM,Dense,Input,Bidirectional\n",
    "from nltk.tokenize.treebank import TreebankWordTokenizer\n",
    "import pickle"
   ]
  },
  {
   "cell_type": "markdown",
   "metadata": {},
   "source": [
    "<h2 style=\"color:red\">Preparing our Data</h2>"
   ]
  },
  {
   "cell_type": "code",
   "execution_count": 2,
   "metadata": {},
   "outputs": [],
   "source": [
    "with open('dekhteX_train100', 'rb') as dekht:\n",
    "    X_train = pickle.load(dekht)\n",
    "with open('dekhteY_train100', 'rb') as dekhty:\n",
    "    Y_train = pickle.load(dekhty)"
   ]
  },
  {
   "cell_type": "code",
   "execution_count": 3,
   "metadata": {},
   "outputs": [
    {
     "data": {
      "text/plain": [
       "(700, 7)"
      ]
     },
     "execution_count": 3,
     "metadata": {},
     "output_type": "execute_result"
    }
   ],
   "source": [
    "#casting labels\n",
    "Y_train = np.array(Y_train)\n",
    "Y_train.shape"
   ]
  },
  {
   "cell_type": "markdown",
   "metadata": {},
   "source": [
    "<h2 style=\"color:red\">Reading our word embedding</h2>\n",
    "and preparing it"
   ]
  },
  {
   "cell_type": "code",
   "execution_count": 4,
   "metadata": {},
   "outputs": [],
   "source": [
    "embeddings_index = {}\n",
    "with open('/Users/mohammad/Documents/Internship-IAI/indian hotel/glove.6B.300d.txt') as f:\n",
    "    for line in f:\n",
    "        values = line.split()\n",
    "        word = values[0]\n",
    "        \n",
    "        coefs = [float(i) for i in values[1:]]\n",
    "        embeddings_index[word] = coefs\n",
    "\n",
    "embeddings_index['<PAD>'] = [0] * 300\n",
    "embeddings_index['<UNK>'] = [1] * 300"
   ]
  },
  {
   "cell_type": "markdown",
   "metadata": {},
   "source": [
    "<h2 style=\"color: red\">proccessing sentences and replacing word vectors with words</h2>"
   ]
  },
  {
   "cell_type": "code",
   "execution_count": 5,
   "metadata": {},
   "outputs": [],
   "source": [
    "MAX_SEQ = 20\n",
    "for s in range(len(X_train)):\n",
    "    n = MAX_SEQ - len(X_train[s])\n",
    "    if n < 0:\n",
    "        X_train[s] = X_train[s][:MAX_SEQ]\n",
    "    else:\n",
    "        for i in range(n):\n",
    "            X_train[s].append('<PAD>')\n",
    "    for v in range(len(X_train[s])):\n",
    "        if X_train[s][v] not in embeddings_index:\n",
    "            X_train[s][v] = embeddings_index['<UNK>']\n",
    "        else:\n",
    "            X_train[s][v] = embeddings_index[X_train[s][v]]"
   ]
  },
  {
   "cell_type": "code",
   "execution_count": 6,
   "metadata": {},
   "outputs": [
    {
     "data": {
      "text/plain": [
       "(700, 20, 300)"
      ]
     },
     "execution_count": 6,
     "metadata": {},
     "output_type": "execute_result"
    }
   ],
   "source": [
    "#casting training set\n",
    "X_train = np.array(X_train)\n",
    "X_train.shape"
   ]
  },
  {
   "cell_type": "markdown",
   "metadata": {},
   "source": [
    "<h2 style=\"color:red\">Building model with Batch size 64</h2>"
   ]
  },
  {
   "cell_type": "code",
   "execution_count": 7,
   "metadata": {},
   "outputs": [],
   "source": [
    "# BATCH_SIZE = 64\n",
    "# input_layer = Input( batch_shape = (BATCH_SIZE, MAX_SEQ, 300))\n",
    "# lstm_layer = Bidirectional(LSTM(units=MAX_SEQ))(input_layer)\n",
    "# output_layer = Dense(7, activation=\"softmax\")(lstm_layer)\n",
    "\n",
    "# model = Model(inputs=input_layer, outputs=output_layer)\n",
    "# model.compile(loss='categorical_crossentropy',\n",
    "#               optimizer='adam')\n",
    "# model.summary()"
   ]
  },
  {
   "cell_type": "code",
   "execution_count": 8,
   "metadata": {},
   "outputs": [],
   "source": [
    "# #Checkpoints at the end of each epoch\n",
    "# from keras.callbacks import ModelCheckpoint\n",
    "# checkpoint = ModelCheckpoint('weight_dekhte.{epoch:02d}.hdf5')\n",
    "# callbacks_list = [checkpoint]"
   ]
  },
  {
   "cell_type": "code",
   "execution_count": 9,
   "metadata": {},
   "outputs": [],
   "source": [
    "# #training resize\n",
    "# X_train = X_train[0:640]\n",
    "# Y_train = Y_train[0:640]"
   ]
  },
  {
   "cell_type": "code",
   "execution_count": 10,
   "metadata": {},
   "outputs": [],
   "source": [
    "# #load previous weights\n",
    "# model.load_weights('weight_dekhte.60.hdf5')"
   ]
  },
  {
   "cell_type": "code",
   "execution_count": 42,
   "metadata": {},
   "outputs": [
    {
     "name": "stdout",
     "output_type": "stream",
     "text": [
      "Epoch 1/60\n",
      "640/640 [==============================] - 0s 498us/step - loss: 0.0131\n",
      "Epoch 2/60\n",
      "640/640 [==============================] - 0s 475us/step - loss: 0.0093\n",
      "Epoch 3/60\n",
      "640/640 [==============================] - 0s 512us/step - loss: 0.0085\n",
      "Epoch 4/60\n",
      "640/640 [==============================] - 0s 605us/step - loss: 0.0084\n",
      "Epoch 5/60\n",
      "640/640 [==============================] - 0s 582us/step - loss: 0.0103\n",
      "Epoch 6/60\n",
      "640/640 [==============================] - 0s 753us/step - loss: 0.0087\n",
      "Epoch 7/60\n",
      "640/640 [==============================] - 0s 572us/step - loss: 0.0076\n",
      "Epoch 8/60\n",
      "640/640 [==============================] - 0s 578us/step - loss: 0.0071\n",
      "Epoch 9/60\n",
      "640/640 [==============================] - 0s 569us/step - loss: 0.0063\n",
      "Epoch 10/60\n",
      "640/640 [==============================] - 0s 568us/step - loss: 0.0060\n",
      "Epoch 11/60\n",
      "640/640 [==============================] - 0s 574us/step - loss: 0.0057\n",
      "Epoch 12/60\n",
      "640/640 [==============================] - 0s 599us/step - loss: 0.0055\n",
      "Epoch 13/60\n",
      "640/640 [==============================] - 0s 687us/step - loss: 0.0053\n",
      "Epoch 14/60\n",
      "640/640 [==============================] - 0s 566us/step - loss: 0.0051\n",
      "Epoch 15/60\n",
      "640/640 [==============================] - 0s 572us/step - loss: 0.0048\n",
      "Epoch 16/60\n",
      "640/640 [==============================] - 0s 573us/step - loss: 0.0047\n",
      "Epoch 17/60\n",
      "640/640 [==============================] - 0s 576us/step - loss: 0.0045\n",
      "Epoch 18/60\n",
      "640/640 [==============================] - 0s 582us/step - loss: 0.0045\n",
      "Epoch 19/60\n",
      "640/640 [==============================] - 0s 572us/step - loss: 0.0043\n",
      "Epoch 20/60\n",
      "640/640 [==============================] - 0s 578us/step - loss: 0.0042\n",
      "Epoch 21/60\n",
      "640/640 [==============================] - 0s 570us/step - loss: 0.0041\n",
      "Epoch 22/60\n",
      "640/640 [==============================] - 0s 579us/step - loss: 0.0039\n",
      "Epoch 23/60\n",
      "640/640 [==============================] - 0s 580us/step - loss: 0.0039\n",
      "Epoch 24/60\n",
      "640/640 [==============================] - 0s 600us/step - loss: 0.0037\n",
      "Epoch 25/60\n",
      "640/640 [==============================] - 0s 681us/step - loss: 0.0037\n",
      "Epoch 26/60\n",
      "640/640 [==============================] - 0s 572us/step - loss: 0.0036\n",
      "Epoch 27/60\n",
      "640/640 [==============================] - 0s 579us/step - loss: 0.0035\n",
      "Epoch 28/60\n",
      "640/640 [==============================] - 0s 581us/step - loss: 0.0034\n",
      "Epoch 29/60\n",
      "640/640 [==============================] - 0s 579us/step - loss: 0.0033\n",
      "Epoch 30/60\n",
      "640/640 [==============================] - 0s 588us/step - loss: 0.0033\n",
      "Epoch 31/60\n",
      "640/640 [==============================] - 0s 579us/step - loss: 0.0032\n",
      "Epoch 32/60\n",
      "640/640 [==============================] - 0s 585us/step - loss: 0.0031\n",
      "Epoch 33/60\n",
      "640/640 [==============================] - 0s 581us/step - loss: 0.0031\n",
      "Epoch 34/60\n",
      "640/640 [==============================] - 0s 581us/step - loss: 0.0030\n",
      "Epoch 35/60\n",
      "640/640 [==============================] - 0s 594us/step - loss: 0.0029\n",
      "Epoch 36/60\n",
      "640/640 [==============================] - 0s 582us/step - loss: 0.0029\n",
      "Epoch 37/60\n",
      "640/640 [==============================] - 0s 603us/step - loss: 0.0029\n",
      "Epoch 38/60\n",
      "640/640 [==============================] - 0s 589us/step - loss: 0.0028\n",
      "Epoch 39/60\n",
      "640/640 [==============================] - 0s 580us/step - loss: 0.0027\n",
      "Epoch 40/60\n",
      "640/640 [==============================] - 0s 586us/step - loss: 0.0027\n",
      "Epoch 41/60\n",
      "640/640 [==============================] - 0s 590us/step - loss: 0.0027\n",
      "Epoch 42/60\n",
      "640/640 [==============================] - 0s 591us/step - loss: 0.0026\n",
      "Epoch 43/60\n",
      "640/640 [==============================] - 0s 586us/step - loss: 0.0025\n",
      "Epoch 44/60\n",
      "640/640 [==============================] - 0s 586us/step - loss: 0.0024\n",
      "Epoch 45/60\n",
      "640/640 [==============================] - 0s 767us/step - loss: 0.0024\n",
      "Epoch 46/60\n",
      "640/640 [==============================] - 1s 879us/step - loss: 0.0023\n",
      "Epoch 47/60\n",
      "640/640 [==============================] - 0s 653us/step - loss: 0.0023\n",
      "Epoch 48/60\n",
      "640/640 [==============================] - 0s 620us/step - loss: 0.0023\n",
      "Epoch 49/60\n",
      "640/640 [==============================] - 0s 612us/step - loss: 0.0023\n",
      "Epoch 50/60\n",
      "640/640 [==============================] - 0s 627us/step - loss: 0.0022\n",
      "Epoch 51/60\n",
      "640/640 [==============================] - 0s 694us/step - loss: 0.0021\n",
      "Epoch 52/60\n",
      "640/640 [==============================] - 0s 588us/step - loss: 0.0021\n",
      "Epoch 53/60\n",
      "640/640 [==============================] - 0s 624us/step - loss: 0.0021\n",
      "Epoch 54/60\n",
      "640/640 [==============================] - 0s 581us/step - loss: 0.0020\n",
      "Epoch 55/60\n",
      "640/640 [==============================] - 1s 807us/step - loss: 0.0020\n",
      "Epoch 56/60\n",
      "640/640 [==============================] - 0s 766us/step - loss: 0.0020\n",
      "Epoch 57/60\n",
      "640/640 [==============================] - 0s 628us/step - loss: 0.0019\n",
      "Epoch 58/60\n",
      "640/640 [==============================] - 0s 716us/step - loss: 0.0019\n",
      "Epoch 59/60\n",
      "640/640 [==============================] - 1s 879us/step - loss: 0.0018\n",
      "Epoch 60/60\n",
      "640/640 [==============================] - 1s 833us/step - loss: 0.0018\n"
     ]
    },
    {
     "data": {
      "text/plain": [
       "<keras.callbacks.History at 0x7f72dfabf400>"
      ]
     },
     "execution_count": 42,
     "metadata": {},
     "output_type": "execute_result"
    }
   ],
   "source": [
    "#fit the model\n",
    "EPOCH_SIZE = 60\n",
    "model.fit(X_train, Y_train, epochs=EPOCH_SIZE, batch_size=BATCH_SIZE, callbacks=callbacks_list)"
   ]
  },
  {
   "cell_type": "markdown",
   "metadata": {},
   "source": [
    "<h2 style=\"color:red\">Building model with Batch size 1</h2>"
   ]
  },
  {
   "cell_type": "code",
   "execution_count": 14,
   "metadata": {},
   "outputs": [
    {
     "name": "stdout",
     "output_type": "stream",
     "text": [
      "_________________________________________________________________\n",
      "Layer (type)                 Output Shape              Param #   \n",
      "=================================================================\n",
      "input_3 (InputLayer)         (1, 20, 300)              0         \n",
      "_________________________________________________________________\n",
      "bidirectional_3 (Bidirection (1, 40)                   51360     \n",
      "_________________________________________________________________\n",
      "dense_3 (Dense)              (1, 7)                    287       \n",
      "=================================================================\n",
      "Total params: 51,647\n",
      "Trainable params: 51,647\n",
      "Non-trainable params: 0\n",
      "_________________________________________________________________\n"
     ]
    }
   ],
   "source": [
    "BATCH_SIZE = 1\n",
    "input_layer = Input( batch_shape = (BATCH_SIZE, MAX_SEQ, 300))\n",
    "lstm_layer = Bidirectional(LSTM(units=MAX_SEQ))(input_layer)\n",
    "output_layer = Dense(7, activation=\"softmax\")(lstm_layer)\n",
    "\n",
    "dekhtemodel = Model(inputs=input_layer, outputs=output_layer)\n",
    "dekhtemodel.compile(loss='categorical_crossentropy',\n",
    "              optimizer='adam')\n",
    "dekhtemodel.summary()"
   ]
  },
  {
   "cell_type": "code",
   "execution_count": 16,
   "metadata": {},
   "outputs": [],
   "source": [
    "#transfer prev model weights\n",
    "# we = model.get_weights()\n",
    "# dekhtemodel.set_weights(we)\n",
    "dekhtemodel.load_weights('weight_dekhte.12.hdf5')\n",
    "\n"
   ]
  },
  {
   "cell_type": "code",
   "execution_count": 15,
   "metadata": {},
   "outputs": [],
   "source": [
    "#load previous weights\n",
    "#dekhtemodel.load_weights('weight_dekhte.40.hdf5')"
   ]
  },
  {
   "cell_type": "code",
   "execution_count": 17,
   "metadata": {},
   "outputs": [
    {
     "name": "stdout",
     "output_type": "stream",
     "text": [
      "_________________________________________________________________\n",
      "Layer (type)                 Output Shape              Param #   \n",
      "=================================================================\n",
      "input_3 (InputLayer)         (1, 20, 300)              0         \n",
      "_________________________________________________________________\n",
      "bidirectional_3 (Bidirection (1, 40)                   51360     \n",
      "_________________________________________________________________\n",
      "dense_3 (Dense)              (1, 7)                    287       \n",
      "=================================================================\n",
      "Total params: 51,647\n",
      "Trainable params: 51,647\n",
      "Non-trainable params: 0\n",
      "_________________________________________________________________\n"
     ]
    }
   ],
   "source": [
    "dekhtemodel.compile(loss='categorical_crossentropy',\n",
    "              optimizer='adam')\n",
    "dekhtemodel.summary()"
   ]
  },
  {
   "cell_type": "code",
   "execution_count": 17,
   "metadata": {},
   "outputs": [
    {
     "name": "stdout",
     "output_type": "stream",
     "text": [
      "Epoch 1/100\n",
      "640/640 [==============================] - 11s 17ms/step - loss: 0.1263\n",
      "Epoch 2/100\n",
      "640/640 [==============================] - 10s 16ms/step - loss: 0.0815\n",
      "Epoch 3/100\n",
      "640/640 [==============================] - 10s 15ms/step - loss: 0.1051\n",
      "Epoch 4/100\n",
      "640/640 [==============================] - 10s 15ms/step - loss: 0.0636\n",
      "Epoch 5/100\n",
      "640/640 [==============================] - 11s 17ms/step - loss: 0.0344\n",
      "Epoch 6/100\n",
      "640/640 [==============================] - 9s 14ms/step - loss: 0.0165\n",
      "Epoch 7/100\n",
      "640/640 [==============================] - 9s 14ms/step - loss: 0.0111\n",
      "Epoch 8/100\n",
      "640/640 [==============================] - 8s 13ms/step - loss: 0.0432\n",
      "Epoch 9/100\n",
      "640/640 [==============================] - 8s 13ms/step - loss: 0.0507\n",
      "Epoch 10/100\n",
      "640/640 [==============================] - 9s 14ms/step - loss: 0.0155\n",
      "Epoch 11/100\n",
      "640/640 [==============================] - 9s 14ms/step - loss: 0.0068\n",
      "Epoch 12/100\n",
      "640/640 [==============================] - 9s 14ms/step - loss: 0.0064\n",
      "Epoch 13/100\n",
      " 21/640 [..............................] - ETA: 9s - loss: 0.0022"
     ]
    },
    {
     "ename": "KeyboardInterrupt",
     "evalue": "",
     "output_type": "error",
     "traceback": [
      "\u001b[0;31m---------------------------------------------------------------------------\u001b[0m",
      "\u001b[0;31mKeyboardInterrupt\u001b[0m                         Traceback (most recent call last)",
      "\u001b[0;32m<ipython-input-17-cfa70266bfe8>\u001b[0m in \u001b[0;36m<module>\u001b[0;34m()\u001b[0m\n\u001b[1;32m      1\u001b[0m \u001b[0;31m#fit model\u001b[0m\u001b[0;34m\u001b[0m\u001b[0;34m\u001b[0m\u001b[0m\n\u001b[1;32m      2\u001b[0m \u001b[0mEPOCH_SIZE\u001b[0m \u001b[0;34m=\u001b[0m \u001b[0;36m100\u001b[0m\u001b[0;34m\u001b[0m\u001b[0m\n\u001b[0;32m----> 3\u001b[0;31m \u001b[0mdekhtemodel\u001b[0m\u001b[0;34m.\u001b[0m\u001b[0mfit\u001b[0m\u001b[0;34m(\u001b[0m\u001b[0mX_train\u001b[0m\u001b[0;34m,\u001b[0m \u001b[0mY_train\u001b[0m\u001b[0;34m,\u001b[0m \u001b[0mepochs\u001b[0m\u001b[0;34m=\u001b[0m\u001b[0mEPOCH_SIZE\u001b[0m\u001b[0;34m,\u001b[0m \u001b[0mbatch_size\u001b[0m\u001b[0;34m=\u001b[0m\u001b[0mBATCH_SIZE\u001b[0m\u001b[0;34m,\u001b[0m \u001b[0mcallbacks\u001b[0m\u001b[0;34m=\u001b[0m\u001b[0mcallbacks_list\u001b[0m\u001b[0;34m)\u001b[0m\u001b[0;34m\u001b[0m\u001b[0m\n\u001b[0m",
      "\u001b[0;32m~/anaconda3/lib/python3.6/site-packages/keras/engine/training.py\u001b[0m in \u001b[0;36mfit\u001b[0;34m(self, x, y, batch_size, epochs, verbose, callbacks, validation_split, validation_data, shuffle, class_weight, sample_weight, initial_epoch, steps_per_epoch, validation_steps, **kwargs)\u001b[0m\n\u001b[1;32m   1703\u001b[0m                               \u001b[0minitial_epoch\u001b[0m\u001b[0;34m=\u001b[0m\u001b[0minitial_epoch\u001b[0m\u001b[0;34m,\u001b[0m\u001b[0;34m\u001b[0m\u001b[0m\n\u001b[1;32m   1704\u001b[0m                               \u001b[0msteps_per_epoch\u001b[0m\u001b[0;34m=\u001b[0m\u001b[0msteps_per_epoch\u001b[0m\u001b[0;34m,\u001b[0m\u001b[0;34m\u001b[0m\u001b[0m\n\u001b[0;32m-> 1705\u001b[0;31m                               validation_steps=validation_steps)\n\u001b[0m\u001b[1;32m   1706\u001b[0m \u001b[0;34m\u001b[0m\u001b[0m\n\u001b[1;32m   1707\u001b[0m     def evaluate(self, x=None, y=None,\n",
      "\u001b[0;32m~/anaconda3/lib/python3.6/site-packages/keras/engine/training.py\u001b[0m in \u001b[0;36m_fit_loop\u001b[0;34m(self, f, ins, out_labels, batch_size, epochs, verbose, callbacks, val_f, val_ins, shuffle, callback_metrics, initial_epoch, steps_per_epoch, validation_steps)\u001b[0m\n\u001b[1;32m   1234\u001b[0m                         \u001b[0mins_batch\u001b[0m\u001b[0;34m[\u001b[0m\u001b[0mi\u001b[0m\u001b[0;34m]\u001b[0m \u001b[0;34m=\u001b[0m \u001b[0mins_batch\u001b[0m\u001b[0;34m[\u001b[0m\u001b[0mi\u001b[0m\u001b[0;34m]\u001b[0m\u001b[0;34m.\u001b[0m\u001b[0mtoarray\u001b[0m\u001b[0;34m(\u001b[0m\u001b[0;34m)\u001b[0m\u001b[0;34m\u001b[0m\u001b[0m\n\u001b[1;32m   1235\u001b[0m \u001b[0;34m\u001b[0m\u001b[0m\n\u001b[0;32m-> 1236\u001b[0;31m                     \u001b[0mouts\u001b[0m \u001b[0;34m=\u001b[0m \u001b[0mf\u001b[0m\u001b[0;34m(\u001b[0m\u001b[0mins_batch\u001b[0m\u001b[0;34m)\u001b[0m\u001b[0;34m\u001b[0m\u001b[0m\n\u001b[0m\u001b[1;32m   1237\u001b[0m                     \u001b[0;32mif\u001b[0m \u001b[0;32mnot\u001b[0m \u001b[0misinstance\u001b[0m\u001b[0;34m(\u001b[0m\u001b[0mouts\u001b[0m\u001b[0;34m,\u001b[0m \u001b[0mlist\u001b[0m\u001b[0;34m)\u001b[0m\u001b[0;34m:\u001b[0m\u001b[0;34m\u001b[0m\u001b[0m\n\u001b[1;32m   1238\u001b[0m                         \u001b[0mouts\u001b[0m \u001b[0;34m=\u001b[0m \u001b[0;34m[\u001b[0m\u001b[0mouts\u001b[0m\u001b[0;34m]\u001b[0m\u001b[0;34m\u001b[0m\u001b[0m\n",
      "\u001b[0;32m~/anaconda3/lib/python3.6/site-packages/keras/backend/tensorflow_backend.py\u001b[0m in \u001b[0;36m__call__\u001b[0;34m(self, inputs)\u001b[0m\n\u001b[1;32m   2480\u001b[0m         \u001b[0msession\u001b[0m \u001b[0;34m=\u001b[0m \u001b[0mget_session\u001b[0m\u001b[0;34m(\u001b[0m\u001b[0;34m)\u001b[0m\u001b[0;34m\u001b[0m\u001b[0m\n\u001b[1;32m   2481\u001b[0m         updated = session.run(fetches=fetches, feed_dict=feed_dict,\n\u001b[0;32m-> 2482\u001b[0;31m                               **self.session_kwargs)\n\u001b[0m\u001b[1;32m   2483\u001b[0m         \u001b[0;32mreturn\u001b[0m \u001b[0mupdated\u001b[0m\u001b[0;34m[\u001b[0m\u001b[0;34m:\u001b[0m\u001b[0mlen\u001b[0m\u001b[0;34m(\u001b[0m\u001b[0mself\u001b[0m\u001b[0;34m.\u001b[0m\u001b[0moutputs\u001b[0m\u001b[0;34m)\u001b[0m\u001b[0;34m]\u001b[0m\u001b[0;34m\u001b[0m\u001b[0m\n\u001b[1;32m   2484\u001b[0m \u001b[0;34m\u001b[0m\u001b[0m\n",
      "\u001b[0;32m~/.local/lib/python3.6/site-packages/tensorflow/python/client/session.py\u001b[0m in \u001b[0;36mrun\u001b[0;34m(self, fetches, feed_dict, options, run_metadata)\u001b[0m\n\u001b[1;32m    898\u001b[0m     \u001b[0;32mtry\u001b[0m\u001b[0;34m:\u001b[0m\u001b[0;34m\u001b[0m\u001b[0m\n\u001b[1;32m    899\u001b[0m       result = self._run(None, fetches, feed_dict, options_ptr,\n\u001b[0;32m--> 900\u001b[0;31m                          run_metadata_ptr)\n\u001b[0m\u001b[1;32m    901\u001b[0m       \u001b[0;32mif\u001b[0m \u001b[0mrun_metadata\u001b[0m\u001b[0;34m:\u001b[0m\u001b[0;34m\u001b[0m\u001b[0m\n\u001b[1;32m    902\u001b[0m         \u001b[0mproto_data\u001b[0m \u001b[0;34m=\u001b[0m \u001b[0mtf_session\u001b[0m\u001b[0;34m.\u001b[0m\u001b[0mTF_GetBuffer\u001b[0m\u001b[0;34m(\u001b[0m\u001b[0mrun_metadata_ptr\u001b[0m\u001b[0;34m)\u001b[0m\u001b[0;34m\u001b[0m\u001b[0m\n",
      "\u001b[0;32m~/.local/lib/python3.6/site-packages/tensorflow/python/client/session.py\u001b[0m in \u001b[0;36m_run\u001b[0;34m(self, handle, fetches, feed_dict, options, run_metadata)\u001b[0m\n\u001b[1;32m   1133\u001b[0m     \u001b[0;32mif\u001b[0m \u001b[0mfinal_fetches\u001b[0m \u001b[0;32mor\u001b[0m \u001b[0mfinal_targets\u001b[0m \u001b[0;32mor\u001b[0m \u001b[0;34m(\u001b[0m\u001b[0mhandle\u001b[0m \u001b[0;32mand\u001b[0m \u001b[0mfeed_dict_tensor\u001b[0m\u001b[0;34m)\u001b[0m\u001b[0;34m:\u001b[0m\u001b[0;34m\u001b[0m\u001b[0m\n\u001b[1;32m   1134\u001b[0m       results = self._do_run(handle, final_targets, final_fetches,\n\u001b[0;32m-> 1135\u001b[0;31m                              feed_dict_tensor, options, run_metadata)\n\u001b[0m\u001b[1;32m   1136\u001b[0m     \u001b[0;32melse\u001b[0m\u001b[0;34m:\u001b[0m\u001b[0;34m\u001b[0m\u001b[0m\n\u001b[1;32m   1137\u001b[0m       \u001b[0mresults\u001b[0m \u001b[0;34m=\u001b[0m \u001b[0;34m[\u001b[0m\u001b[0;34m]\u001b[0m\u001b[0;34m\u001b[0m\u001b[0m\n",
      "\u001b[0;32m~/.local/lib/python3.6/site-packages/tensorflow/python/client/session.py\u001b[0m in \u001b[0;36m_do_run\u001b[0;34m(self, handle, target_list, fetch_list, feed_dict, options, run_metadata)\u001b[0m\n\u001b[1;32m   1314\u001b[0m     \u001b[0;32mif\u001b[0m \u001b[0mhandle\u001b[0m \u001b[0;32mis\u001b[0m \u001b[0;32mNone\u001b[0m\u001b[0;34m:\u001b[0m\u001b[0;34m\u001b[0m\u001b[0m\n\u001b[1;32m   1315\u001b[0m       return self._do_call(_run_fn, feeds, fetches, targets, options,\n\u001b[0;32m-> 1316\u001b[0;31m                            run_metadata)\n\u001b[0m\u001b[1;32m   1317\u001b[0m     \u001b[0;32melse\u001b[0m\u001b[0;34m:\u001b[0m\u001b[0;34m\u001b[0m\u001b[0m\n\u001b[1;32m   1318\u001b[0m       \u001b[0;32mreturn\u001b[0m \u001b[0mself\u001b[0m\u001b[0;34m.\u001b[0m\u001b[0m_do_call\u001b[0m\u001b[0;34m(\u001b[0m\u001b[0m_prun_fn\u001b[0m\u001b[0;34m,\u001b[0m \u001b[0mhandle\u001b[0m\u001b[0;34m,\u001b[0m \u001b[0mfeeds\u001b[0m\u001b[0;34m,\u001b[0m \u001b[0mfetches\u001b[0m\u001b[0;34m)\u001b[0m\u001b[0;34m\u001b[0m\u001b[0m\n",
      "\u001b[0;32m~/.local/lib/python3.6/site-packages/tensorflow/python/client/session.py\u001b[0m in \u001b[0;36m_do_call\u001b[0;34m(self, fn, *args)\u001b[0m\n\u001b[1;32m   1320\u001b[0m   \u001b[0;32mdef\u001b[0m \u001b[0m_do_call\u001b[0m\u001b[0;34m(\u001b[0m\u001b[0mself\u001b[0m\u001b[0;34m,\u001b[0m \u001b[0mfn\u001b[0m\u001b[0;34m,\u001b[0m \u001b[0;34m*\u001b[0m\u001b[0margs\u001b[0m\u001b[0;34m)\u001b[0m\u001b[0;34m:\u001b[0m\u001b[0;34m\u001b[0m\u001b[0m\n\u001b[1;32m   1321\u001b[0m     \u001b[0;32mtry\u001b[0m\u001b[0;34m:\u001b[0m\u001b[0;34m\u001b[0m\u001b[0m\n\u001b[0;32m-> 1322\u001b[0;31m       \u001b[0;32mreturn\u001b[0m \u001b[0mfn\u001b[0m\u001b[0;34m(\u001b[0m\u001b[0;34m*\u001b[0m\u001b[0margs\u001b[0m\u001b[0;34m)\u001b[0m\u001b[0;34m\u001b[0m\u001b[0m\n\u001b[0m\u001b[1;32m   1323\u001b[0m     \u001b[0;32mexcept\u001b[0m \u001b[0merrors\u001b[0m\u001b[0;34m.\u001b[0m\u001b[0mOpError\u001b[0m \u001b[0;32mas\u001b[0m \u001b[0me\u001b[0m\u001b[0;34m:\u001b[0m\u001b[0;34m\u001b[0m\u001b[0m\n\u001b[1;32m   1324\u001b[0m       \u001b[0mmessage\u001b[0m \u001b[0;34m=\u001b[0m \u001b[0mcompat\u001b[0m\u001b[0;34m.\u001b[0m\u001b[0mas_text\u001b[0m\u001b[0;34m(\u001b[0m\u001b[0me\u001b[0m\u001b[0;34m.\u001b[0m\u001b[0mmessage\u001b[0m\u001b[0;34m)\u001b[0m\u001b[0;34m\u001b[0m\u001b[0m\n",
      "\u001b[0;32m~/.local/lib/python3.6/site-packages/tensorflow/python/client/session.py\u001b[0m in \u001b[0;36m_run_fn\u001b[0;34m(feed_dict, fetch_list, target_list, options, run_metadata)\u001b[0m\n\u001b[1;32m   1305\u001b[0m       \u001b[0mself\u001b[0m\u001b[0;34m.\u001b[0m\u001b[0m_extend_graph\u001b[0m\u001b[0;34m(\u001b[0m\u001b[0;34m)\u001b[0m\u001b[0;34m\u001b[0m\u001b[0m\n\u001b[1;32m   1306\u001b[0m       return self._call_tf_sessionrun(\n\u001b[0;32m-> 1307\u001b[0;31m           options, feed_dict, fetch_list, target_list, run_metadata)\n\u001b[0m\u001b[1;32m   1308\u001b[0m \u001b[0;34m\u001b[0m\u001b[0m\n\u001b[1;32m   1309\u001b[0m     \u001b[0;32mdef\u001b[0m \u001b[0m_prun_fn\u001b[0m\u001b[0;34m(\u001b[0m\u001b[0mhandle\u001b[0m\u001b[0;34m,\u001b[0m \u001b[0mfeed_dict\u001b[0m\u001b[0;34m,\u001b[0m \u001b[0mfetch_list\u001b[0m\u001b[0;34m)\u001b[0m\u001b[0;34m:\u001b[0m\u001b[0;34m\u001b[0m\u001b[0m\n",
      "\u001b[0;32m~/.local/lib/python3.6/site-packages/tensorflow/python/client/session.py\u001b[0m in \u001b[0;36m_call_tf_sessionrun\u001b[0;34m(self, options, feed_dict, fetch_list, target_list, run_metadata)\u001b[0m\n\u001b[1;32m   1407\u001b[0m       return tf_session.TF_SessionRun_wrapper(\n\u001b[1;32m   1408\u001b[0m           \u001b[0mself\u001b[0m\u001b[0;34m.\u001b[0m\u001b[0m_session\u001b[0m\u001b[0;34m,\u001b[0m \u001b[0moptions\u001b[0m\u001b[0;34m,\u001b[0m \u001b[0mfeed_dict\u001b[0m\u001b[0;34m,\u001b[0m \u001b[0mfetch_list\u001b[0m\u001b[0;34m,\u001b[0m \u001b[0mtarget_list\u001b[0m\u001b[0;34m,\u001b[0m\u001b[0;34m\u001b[0m\u001b[0m\n\u001b[0;32m-> 1409\u001b[0;31m           run_metadata)\n\u001b[0m\u001b[1;32m   1410\u001b[0m     \u001b[0;32melse\u001b[0m\u001b[0;34m:\u001b[0m\u001b[0;34m\u001b[0m\u001b[0m\n\u001b[1;32m   1411\u001b[0m       \u001b[0;32mwith\u001b[0m \u001b[0merrors\u001b[0m\u001b[0;34m.\u001b[0m\u001b[0mraise_exception_on_not_ok_status\u001b[0m\u001b[0;34m(\u001b[0m\u001b[0;34m)\u001b[0m \u001b[0;32mas\u001b[0m \u001b[0mstatus\u001b[0m\u001b[0;34m:\u001b[0m\u001b[0;34m\u001b[0m\u001b[0m\n",
      "\u001b[0;31mKeyboardInterrupt\u001b[0m: "
     ]
    }
   ],
   "source": [
    "#fit model\n",
    "EPOCH_SIZE = 12\n",
    "dekhtemodel.fit(X_train, Y_train, epochs=EPOCH_SIZE, batch_size=BATCH_SIZE, callbacks=callbacks_list)"
   ]
  },
  {
   "cell_type": "markdown",
   "metadata": {},
   "source": [
    "<h2 style=\"color:red\">Preparing Sentences for testing</h2>"
   ]
  },
  {
   "cell_type": "code",
   "execution_count": 18,
   "metadata": {},
   "outputs": [],
   "source": [
    "def prepare(sentence):\n",
    "  tokenizer = TreebankWordTokenizer()\n",
    "  sent = tokenizer.tokenize(sentence)\n",
    "  for i in sent:\n",
    "    n = MAX_SEQ - len(sent)\n",
    "    if n < 0:\n",
    "      sent = sent[:MAX_SEQ]\n",
    "    else:\n",
    "        for j in range(n):\n",
    "            sent.append('<PAD>')\n",
    "  for j in range(len(sent)):\n",
    "    if sent[j] in embeddings_index:\n",
    "      sent[j] = embeddings_index[sent[j]]\n",
    "    else:\n",
    "      sent[j] = embeddings_index[\"<UNK>\"]\n",
    "  return np.array(sent).reshape((1, 20, 300))\n"
   ]
  },
  {
   "cell_type": "code",
   "execution_count": 19,
   "metadata": {},
   "outputs": [],
   "source": [
    "def classify(sent):\n",
    "    sentence = prepare(sent)\n",
    "    sentence = dekhtemodel.predict(sentence)\n",
    "    argmax = np.argmax(sentence)\n",
    "    if argmax == 0:\n",
    "        print('AddToPlaylist')\n",
    "    elif argmax == 1:\n",
    "        print('BookRestaurant')\n",
    "    elif argmax == 2:\n",
    "        print('GetWeather')\n",
    "    elif argmax == 3:\n",
    "        print('PlayMusic')\n",
    "    elif argmax == 4:\n",
    "        print('RateBook')\n",
    "    elif argmax == 5:\n",
    "        print('SearchCreativeWork')\n",
    "    elif argmax == 6:\n",
    "        print('SearchScreeningEvent')"
   ]
  },
  {
   "cell_type": "markdown",
   "metadata": {},
   "source": [
    "<h2 style=\"color:red\">Entity recognitions</h2>"
   ]
  },
  {
   "cell_type": "code",
   "execution_count": 20,
   "metadata": {},
   "outputs": [],
   "source": [
    "#defining entities\n",
    "embeddings_size = 300\n",
    "entity_lists = { \"cloth\" : ['t-shirt' , 'shirts' , 'jeans'],\n",
    "                \"city_iran\" : ['karaj', 'tehran', 'mashhad'],\n",
    "                \"name_foreign\" : ['john', 'jack', 'paul'],\n",
    "                \"music_genre\" : ['pop', 'rap', 'jazz', 'rock', 'classical'],\n",
    "                \"time\" : ['tommorow', 'today', 'yesterday', '8pm'],\n",
    "                \"adverb\": ['sometimes', 'usually', 'never']\n",
    "               }\n",
    "for ent in entity_lists:\n",
    "    sum_of_embedding = np.zeros(embeddings_size)\n",
    "    for obj in entity_lists[ent]:\n",
    "        sum_of_embedding += np.array(embeddings_index[obj])\n",
    "    sum_of_embedding /= len(entity_lists[ent])\n",
    "    globals()['entity_{}'.format(ent)] = list(sum_of_embedding)"
   ]
  },
  {
   "cell_type": "code",
   "execution_count": 21,
   "metadata": {},
   "outputs": [],
   "source": [
    "#similarity function\n",
    "from scipy import spatial\n",
    "def sim(dataSetI , dataSetII):\n",
    "    return 1 - spatial.distance.cosine(dataSetI, dataSetII)"
   ]
  },
  {
   "cell_type": "code",
   "execution_count": 22,
   "metadata": {},
   "outputs": [],
   "source": [
    "#recognize entity\n",
    "def return_entity(sent , entity):\n",
    "    sent = sent.lower()\n",
    "    ma = 0\n",
    "    ans = \"\"\n",
    "    for i in sent.split():\n",
    "        if sim(embeddings_index[i] , entity) > ma:\n",
    "            ma = sim(embeddings_index[i] , entity)\n",
    "            ans = i\n",
    "    if ma < .1:\n",
    "        return \"nothing\"\n",
    "    return ans"
   ]
  },
  {
   "cell_type": "markdown",
   "metadata": {},
   "source": [
    "<h2 style=\"color:red\">Test</h2>"
   ]
  },
  {
   "cell_type": "code",
   "execution_count": 23,
   "metadata": {},
   "outputs": [
    {
     "name": "stdout",
     "output_type": "stream",
     "text": [
      "GetWeather\n",
      "city in iran:  sede\n",
      "adverb:  often\n",
      "time:  fridays\n",
      "genre:  r&b\n",
      "clothes:  pants\n"
     ]
    }
   ],
   "source": [
    "sent = 'is it going to rain in sede often Fridays with a R&B and some pants ?'\n",
    "classify(sent)\n",
    "print(\"city in iran: \" ,return_entity(sent , entity_city_iran))\n",
    "print(\"adverb: \", return_entity(sent, entity_adverb))\n",
    "print(\"time: \", return_entity(sent, entity_time))\n",
    "print(\"genre: \", return_entity(sent, entity_music_genre))\n",
    "print(\"clothes: \", return_entity(sent, entity_cloth))"
   ]
  },
  {
   "cell_type": "code",
   "execution_count": null,
   "metadata": {},
   "outputs": [],
   "source": []
  },
  {
   "cell_type": "code",
   "execution_count": null,
   "metadata": {},
   "outputs": [],
   "source": []
  }
 ],
 "metadata": {
  "kernelspec": {
   "display_name": "Python 3",
   "language": "python",
   "name": "python3"
  },
  "language_info": {
   "codemirror_mode": {
    "name": "ipython",
    "version": 3
   },
   "file_extension": ".py",
   "mimetype": "text/x-python",
   "name": "python",
   "nbconvert_exporter": "python",
   "pygments_lexer": "ipython3",
   "version": "3.6.5"
  }
 },
 "nbformat": 4,
 "nbformat_minor": 2
}
